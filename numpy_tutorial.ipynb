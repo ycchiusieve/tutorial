{
 "cells": [
  {
   "cell_type": "markdown",
   "metadata": {},
   "source": [
    "# Quick Tutorial of Numpy "
   ]
  },
  {
   "cell_type": "code",
   "execution_count": 305,
   "metadata": {},
   "outputs": [],
   "source": [
    "import numpy as np\n",
    "import matplotlib.pyplot as plt"
   ]
  },
  {
   "cell_type": "markdown",
   "metadata": {},
   "source": [
    "## Creating np.array objects"
   ]
  },
  {
   "cell_type": "code",
   "execution_count": 607,
   "metadata": {},
   "outputs": [],
   "source": [
    "a=np.array(list('hello!numpy.'))"
   ]
  },
  {
   "cell_type": "code",
   "execution_count": 608,
   "metadata": {},
   "outputs": [
    {
     "data": {
      "text/plain": [
       "array([['h', 'e', 'l'],\n",
       "       ['l', 'o', '!'],\n",
       "       ['n', 'u', 'm'],\n",
       "       ['p', 'y', '.']], dtype='<U1')"
      ]
     },
     "execution_count": 608,
     "metadata": {},
     "output_type": "execute_result"
    }
   ],
   "source": [
    "a.reshape(4,-1)   # -1 means calculate automatically"
   ]
  },
  {
   "cell_type": "code",
   "execution_count": 620,
   "metadata": {},
   "outputs": [
    {
     "data": {
      "text/plain": [
       "array([[0.68593695, 0.83413662, 0.30253096, 0.74819167, 0.51721556,\n",
       "        0.80959414, 0.70064977],\n",
       "       [0.41154971, 0.24396673, 0.09177823, 0.64585311, 0.73956744,\n",
       "        0.19913843, 0.46152251],\n",
       "       [0.13722965, 0.60168091, 0.07568612, 0.32451118, 0.81729752,\n",
       "        0.09386256, 0.1826105 ],\n",
       "       [0.00148402, 0.4163598 , 0.22971804, 0.10380683, 0.36985508,\n",
       "        0.2260661 , 0.07851799],\n",
       "       [0.58878022, 0.50366055, 0.58850724, 0.89382862, 0.66830038,\n",
       "        0.67892409, 0.19411969],\n",
       "       [0.23862446, 0.8064344 , 0.80096633, 0.3808538 , 0.81684043,\n",
       "        0.43506901, 0.17735429]])"
      ]
     },
     "execution_count": 620,
     "metadata": {},
     "output_type": "execute_result"
    }
   ],
   "source": [
    "np.random.random((6,7)) "
   ]
  },
  {
   "cell_type": "code",
   "execution_count": 627,
   "metadata": {},
   "outputs": [
    {
     "data": {
      "text/plain": [
       "array([[ 0.64127101, -0.03174441, -0.39574773, -1.21516634,  1.64719294,\n",
       "        -1.28172908, -0.35025897],\n",
       "       [-0.87939011,  2.19860563, -1.18850742,  0.56899222,  1.38279867,\n",
       "        -0.25649685,  0.44395884],\n",
       "       [ 1.31196789,  0.05587359, -1.52246118, -1.04345913, -0.40846373,\n",
       "         0.48430862,  0.86478708],\n",
       "       [-0.0348896 , -0.34821642, -0.04371983, -0.05621681, -1.3575718 ,\n",
       "        -0.77395074, -1.25317532],\n",
       "       [ 0.32359968, -0.35725052,  0.61349514,  0.32614229,  0.52022443,\n",
       "        -0.13921066, -0.29774472],\n",
       "       [-0.06045472, -0.94913841, -1.18573581, -1.62131139, -0.87831264,\n",
       "        -0.37052092,  1.36002887]])"
      ]
     },
     "execution_count": 627,
     "metadata": {},
     "output_type": "execute_result"
    }
   ],
   "source": [
    "np.random.randn(6,7) #  N(0,1)"
   ]
  },
  {
   "cell_type": "code",
   "execution_count": 633,
   "metadata": {},
   "outputs": [
    {
     "data": {
      "text/plain": [
       "array([7, 7, 6, 8, 5, 4, 1, 7, 4, 3, 6, 5, 5, 4, 5, 3, 4, 5, 8, 6, 7, 5,\n",
       "       3, 2, 5, 7, 5, 5, 4, 5, 7, 2, 5, 4, 3, 4, 7, 6, 5, 4, 5, 6, 6, 3,\n",
       "       7, 9, 3, 5, 6, 5, 6, 5, 7, 5, 7, 3, 7, 5, 3, 5, 7, 6, 4, 4, 7, 3,\n",
       "       5, 4, 6, 5, 4, 2, 6, 6, 5, 5, 5, 5, 5, 6, 3, 5, 6, 3, 5, 7, 3, 8,\n",
       "       6, 5, 5, 6, 5, 6, 4, 6, 5, 3, 6, 2])"
      ]
     },
     "execution_count": 633,
     "metadata": {},
     "output_type": "execute_result"
    }
   ],
   "source": [
    "np.random.binomial(10, 0.5,100)  # flip a fair coin 10 times, repeating 100 times"
   ]
  },
  {
   "cell_type": "code",
   "execution_count": 143,
   "metadata": {},
   "outputs": [
    {
     "data": {
      "text/plain": [
       "array([[6, 2, 2, 3, 5],\n",
       "       [5, 2, 0, 5, 9],\n",
       "       [7, 7, 8, 8, 7],\n",
       "       [5, 4, 7, 0, 8],\n",
       "       [9, 2, 7, 1, 6]])"
      ]
     },
     "execution_count": 143,
     "metadata": {},
     "output_type": "execute_result"
    }
   ],
   "source": [
    "np.random.randint(0,10,(5,5))"
   ]
  },
  {
   "cell_type": "code",
   "execution_count": 142,
   "metadata": {},
   "outputs": [
    {
     "data": {
      "text/plain": [
       "array([[1., 1., 1., 1., 1., 1.],\n",
       "       [1., 1., 1., 1., 1., 1.],\n",
       "       [1., 1., 1., 1., 1., 1.],\n",
       "       [1., 1., 1., 1., 1., 1.],\n",
       "       [1., 1., 1., 1., 1., 1.]])"
      ]
     },
     "execution_count": 142,
     "metadata": {},
     "output_type": "execute_result"
    }
   ],
   "source": [
    "np.ones((5,6))"
   ]
  },
  {
   "cell_type": "code",
   "execution_count": 126,
   "metadata": {},
   "outputs": [
    {
     "data": {
      "text/plain": [
       "array([[0., 0.],\n",
       "       [0., 0.],\n",
       "       [0., 0.]])"
      ]
     },
     "execution_count": 126,
     "metadata": {},
     "output_type": "execute_result"
    }
   ],
   "source": [
    "np.zeros((3,2))"
   ]
  },
  {
   "cell_type": "code",
   "execution_count": 127,
   "metadata": {},
   "outputs": [
    {
     "data": {
      "text/plain": [
       "array([[0.        , 0.05263158, 0.10526316, 0.15789474, 0.21052632],\n",
       "       [0.26315789, 0.31578947, 0.36842105, 0.42105263, 0.47368421],\n",
       "       [0.52631579, 0.57894737, 0.63157895, 0.68421053, 0.73684211],\n",
       "       [0.78947368, 0.84210526, 0.89473684, 0.94736842, 1.        ]])"
      ]
     },
     "execution_count": 127,
     "metadata": {},
     "output_type": "execute_result"
    }
   ],
   "source": [
    "np.linspace(0,1,20).reshape(4,5)"
   ]
  },
  {
   "cell_type": "code",
   "execution_count": 128,
   "metadata": {},
   "outputs": [
    {
     "data": {
      "text/plain": [
       "array([[1., 0., 0., 0.],\n",
       "       [0., 1., 0., 0.],\n",
       "       [0., 0., 1., 0.],\n",
       "       [0., 0., 0., 1.]])"
      ]
     },
     "execution_count": 128,
     "metadata": {},
     "output_type": "execute_result"
    }
   ],
   "source": [
    "np.eye((4))  # creating identity matrix"
   ]
  },
  {
   "cell_type": "code",
   "execution_count": 134,
   "metadata": {},
   "outputs": [],
   "source": [
    "A=np.fromfunction(lambda x,y : x*y, (5,5), dtype=float) "
   ]
  },
  {
   "cell_type": "code",
   "execution_count": 136,
   "metadata": {},
   "outputs": [
    {
     "data": {
      "text/plain": [
       "array([[  0.,   0.,   0.,   0.,   0.],\n",
       "       [  0.,  30.,  60.,  90., 120.],\n",
       "       [  0.,  60., 120., 180., 240.],\n",
       "       [  0.,  90., 180., 270., 360.],\n",
       "       [  0., 120., 240., 360., 480.]])"
      ]
     },
     "execution_count": 136,
     "metadata": {},
     "output_type": "execute_result"
    }
   ],
   "source": [
    "A@A    #matrix multiplication"
   ]
  },
  {
   "cell_type": "code",
   "execution_count": 170,
   "metadata": {},
   "outputs": [],
   "source": [
    "A=np.array([[1,1],[1,0]], dtype=int)"
   ]
  },
  {
   "cell_type": "code",
   "execution_count": 168,
   "metadata": {},
   "outputs": [
    {
     "data": {
      "text/plain": [
       "array([[ 1298777728820984005,  3736710778780434371],\n",
       "       [ 3736710778780434371, -2437933049959450366]])"
      ]
     },
     "execution_count": 168,
     "metadata": {},
     "output_type": "execute_result"
    }
   ],
   "source": [
    "np.linalg.matrix_power(A,100)  #發生溢位"
   ]
  },
  {
   "cell_type": "markdown",
   "metadata": {},
   "source": [
    "# Slicing"
   ]
  },
  {
   "cell_type": "code",
   "execution_count": 182,
   "metadata": {},
   "outputs": [],
   "source": [
    "A=np.fromfunction(lambda x,y,z: x+y+z+1, (5,5,5))"
   ]
  },
  {
   "cell_type": "code",
   "execution_count": 183,
   "metadata": {},
   "outputs": [
    {
     "data": {
      "text/plain": [
       "array([[[ 1.,  2.,  3.,  4.,  5.],\n",
       "        [ 2.,  3.,  4.,  5.,  6.],\n",
       "        [ 3.,  4.,  5.,  6.,  7.],\n",
       "        [ 4.,  5.,  6.,  7.,  8.],\n",
       "        [ 5.,  6.,  7.,  8.,  9.]],\n",
       "\n",
       "       [[ 2.,  3.,  4.,  5.,  6.],\n",
       "        [ 3.,  4.,  5.,  6.,  7.],\n",
       "        [ 4.,  5.,  6.,  7.,  8.],\n",
       "        [ 5.,  6.,  7.,  8.,  9.],\n",
       "        [ 6.,  7.,  8.,  9., 10.]],\n",
       "\n",
       "       [[ 3.,  4.,  5.,  6.,  7.],\n",
       "        [ 4.,  5.,  6.,  7.,  8.],\n",
       "        [ 5.,  6.,  7.,  8.,  9.],\n",
       "        [ 6.,  7.,  8.,  9., 10.],\n",
       "        [ 7.,  8.,  9., 10., 11.]],\n",
       "\n",
       "       [[ 4.,  5.,  6.,  7.,  8.],\n",
       "        [ 5.,  6.,  7.,  8.,  9.],\n",
       "        [ 6.,  7.,  8.,  9., 10.],\n",
       "        [ 7.,  8.,  9., 10., 11.],\n",
       "        [ 8.,  9., 10., 11., 12.]],\n",
       "\n",
       "       [[ 5.,  6.,  7.,  8.,  9.],\n",
       "        [ 6.,  7.,  8.,  9., 10.],\n",
       "        [ 7.,  8.,  9., 10., 11.],\n",
       "        [ 8.,  9., 10., 11., 12.],\n",
       "        [ 9., 10., 11., 12., 13.]]])"
      ]
     },
     "execution_count": 183,
     "metadata": {},
     "output_type": "execute_result"
    }
   ],
   "source": [
    "A"
   ]
  },
  {
   "cell_type": "code",
   "execution_count": 184,
   "metadata": {},
   "outputs": [
    {
     "data": {
      "text/plain": [
       "array([[ 2.,  3.,  4.,  5.,  6.],\n",
       "       [ 3.,  4.,  5.,  6.,  7.],\n",
       "       [ 4.,  5.,  6.,  7.,  8.],\n",
       "       [ 5.,  6.,  7.,  8.,  9.],\n",
       "       [ 6.,  7.,  8.,  9., 10.]])"
      ]
     },
     "execution_count": 184,
     "metadata": {},
     "output_type": "execute_result"
    }
   ],
   "source": [
    "A[1,:]"
   ]
  },
  {
   "cell_type": "code",
   "execution_count": 185,
   "metadata": {},
   "outputs": [
    {
     "data": {
      "text/plain": [
       "array([[ 2.,  3.,  4.,  5.,  6.],\n",
       "       [ 3.,  4.,  5.,  6.,  7.],\n",
       "       [ 4.,  5.,  6.,  7.,  8.],\n",
       "       [ 5.,  6.,  7.,  8.,  9.],\n",
       "       [ 6.,  7.,  8.,  9., 10.]])"
      ]
     },
     "execution_count": 185,
     "metadata": {},
     "output_type": "execute_result"
    }
   ],
   "source": [
    "A[1,...]"
   ]
  },
  {
   "cell_type": "code",
   "execution_count": 186,
   "metadata": {},
   "outputs": [
    {
     "data": {
      "text/plain": [
       "array([[ 4.,  5.,  6.,  7.,  8.],\n",
       "       [ 5.,  6.,  7.,  8.,  9.],\n",
       "       [ 6.,  7.,  8.,  9., 10.],\n",
       "       [ 7.,  8.,  9., 10., 11.],\n",
       "       [ 8.,  9., 10., 11., 12.]])"
      ]
     },
     "execution_count": 186,
     "metadata": {},
     "output_type": "execute_result"
    }
   ],
   "source": [
    "A[:,3,:]"
   ]
  },
  {
   "cell_type": "code",
   "execution_count": 187,
   "metadata": {},
   "outputs": [
    {
     "data": {
      "text/plain": [
       "array([ 5., 10.])"
      ]
     },
     "execution_count": 187,
     "metadata": {},
     "output_type": "execute_result"
    }
   ],
   "source": [
    "A[(1,4),(3,4),(0,1)]   #matrix zip"
   ]
  },
  {
   "cell_type": "code",
   "execution_count": 188,
   "metadata": {},
   "outputs": [
    {
     "data": {
      "text/plain": [
       "array([ 1.,  4.,  7., 10., 13.])"
      ]
     },
     "execution_count": 188,
     "metadata": {},
     "output_type": "execute_result"
    }
   ],
   "source": [
    "A[range(5),range(5),range(5)] #diagonal elements"
   ]
  },
  {
   "cell_type": "markdown",
   "metadata": {},
   "source": [
    "# Gaussian Elimination\n"
   ]
  },
  {
   "cell_type": "code",
   "execution_count": 3,
   "metadata": {},
   "outputs": [],
   "source": [
    "A=np.random.random((5,5))*10"
   ]
  },
  {
   "cell_type": "code",
   "execution_count": 4,
   "metadata": {},
   "outputs": [],
   "source": [
    "def gauss(A):\n",
    "    nrow, ncol = A.shape\n",
    "    for i in range(nrow):\n",
    "        st=-1\n",
    "        for k in range(ncol):\n",
    "            if A[i,k]!=0.: \n",
    "                st=k\n",
    "                break\n",
    "        if st==-1: continue\n",
    "        for j in range(nrow):\n",
    "            if j!=i: \n",
    "                     A[j]-=A[i]*A[j,st]/A[i,st]\n",
    "                     A[j,st]=0\n",
    "    return A"
   ]
  },
  {
   "cell_type": "code",
   "execution_count": 5,
   "metadata": {},
   "outputs": [
    {
     "name": "stdout",
     "output_type": "stream",
     "text": [
      "[[  3.68758471   0.           0.           0.           0.        ]\n",
      " [  0.         -14.73400296   0.           0.           0.        ]\n",
      " [  0.           0.          -0.12257198   0.           0.        ]\n",
      " [  0.           0.           0.         119.12958038   0.        ]\n",
      " [  0.           0.           0.           0.           3.07925017]]\n"
     ]
    }
   ],
   "source": [
    "print(gauss(A))"
   ]
  },
  {
   "cell_type": "code",
   "execution_count": 114,
   "metadata": {},
   "outputs": [],
   "source": [
    "c=np.concatenate([a,b],axis=0)"
   ]
  },
  {
   "cell_type": "code",
   "execution_count": 115,
   "metadata": {},
   "outputs": [
    {
     "data": {
      "text/plain": [
       "array([[1., 2.],\n",
       "       [3., 5.],\n",
       "       [0., 6.],\n",
       "       [3., 2.]])"
      ]
     },
     "execution_count": 115,
     "metadata": {},
     "output_type": "execute_result"
    }
   ],
   "source": [
    "c"
   ]
  },
  {
   "cell_type": "code",
   "execution_count": 118,
   "metadata": {},
   "outputs": [
    {
     "data": {
      "text/plain": [
       "[array([[1., 2.]]), array([[3., 5.]])]"
      ]
     },
     "execution_count": 118,
     "metadata": {},
     "output_type": "execute_result"
    }
   ],
   "source": [
    "np.split(a,2)"
   ]
  },
  {
   "cell_type": "markdown",
   "metadata": {},
   "source": [
    "\n",
    "# Concating"
   ]
  },
  {
   "cell_type": "code",
   "execution_count": 17,
   "metadata": {},
   "outputs": [],
   "source": [
    "a=np.random.randn(4,4)"
   ]
  },
  {
   "cell_type": "code",
   "execution_count": 19,
   "metadata": {},
   "outputs": [],
   "source": [
    "b=np.eye(4)"
   ]
  },
  {
   "cell_type": "code",
   "execution_count": 25,
   "metadata": {},
   "outputs": [
    {
     "data": {
      "text/plain": [
       "array([[-0.1836316 ,  0.56151955, -1.21250226,  0.12931962,  1.        ,\n",
       "         0.        ,  0.        ,  0.        ],\n",
       "       [ 0.63512656,  0.33506813, -1.57374077,  0.04479404,  0.        ,\n",
       "         1.        ,  0.        ,  0.        ],\n",
       "       [ 1.19430268, -0.22521539,  1.10897481, -0.74890239,  0.        ,\n",
       "         0.        ,  1.        ,  0.        ],\n",
       "       [-0.74159698, -0.47866724,  1.25269522, -0.67196419,  0.        ,\n",
       "         0.        ,  0.        ,  1.        ]])"
      ]
     },
     "execution_count": 25,
     "metadata": {},
     "output_type": "execute_result"
    }
   ],
   "source": [
    "c=np.concatenate([a,b],axis=1)\n",
    "c"
   ]
  },
  {
   "cell_type": "code",
   "execution_count": 32,
   "metadata": {},
   "outputs": [
    {
     "data": {
      "text/plain": [
       "array([[ 0.06596806, -0.02917425, -0.07176115,  0.09072839],\n",
       "       [ 6.24723738, -4.51909039,  2.31866753, -1.68311592],\n",
       "       [ 0.79298792, -1.92550096,  0.68613121, -0.74043734],\n",
       "       [ 0.68344986,  0.56813756,  0.42389649,  1.        ]])"
      ]
     },
     "execution_count": 32,
     "metadata": {},
     "output_type": "execute_result"
    }
   ],
   "source": [
    "gauss(c)[:,4:8]"
   ]
  },
  {
   "cell_type": "markdown",
   "metadata": {},
   "source": [
    "# 反矩陣"
   ]
  },
  {
   "cell_type": "code",
   "execution_count": 511,
   "metadata": {},
   "outputs": [],
   "source": [
    "def inv2(A):\n",
    "    nrow, ncol = A.shape\n",
    "    if nrow!=ncol: return False   \n",
    "    A=np.concatenate([A,np.eye(nrow)],axis=1)\n",
    "    for i in range(nrow):\n",
    "        st=-1\n",
    "        for k in range(ncol):\n",
    "            if A[i,k]!=0.: \n",
    "                st=k\n",
    "                break\n",
    "        if st==-1: continue\n",
    "        A[i]/=A[i,st]\n",
    "        for j in range(nrow):\n",
    "            if j!=i: \n",
    "                     A[j]-=A[i]*A[j,st]\n",
    "                     A[j,st]=0\n",
    "    return A[:,nrow:]"
   ]
  },
  {
   "cell_type": "code",
   "execution_count": 512,
   "metadata": {},
   "outputs": [
    {
     "data": {
      "text/plain": [
       "array([[1.        , 0.5       , 0.33333333, 0.25      , 0.2       ],\n",
       "       [0.5       , 0.33333333, 0.25      , 0.2       , 0.16666667],\n",
       "       [0.33333333, 0.25      , 0.2       , 0.16666667, 0.14285714],\n",
       "       [0.25      , 0.2       , 0.16666667, 0.14285714, 0.125     ],\n",
       "       [0.2       , 0.16666667, 0.14285714, 0.125     , 0.11111111]])"
      ]
     },
     "execution_count": 512,
     "metadata": {},
     "output_type": "execute_result"
    }
   ],
   "source": [
    "a=np.fromfunction(lambda x,y : 1/(x+y+1), (5,5), dtype=float) \n",
    "a"
   ]
  },
  {
   "cell_type": "code",
   "execution_count": 514,
   "metadata": {},
   "outputs": [],
   "source": [
    "inv2(a)"
   ]
  },
  {
   "cell_type": "code",
   "execution_count": 468,
   "metadata": {},
   "outputs": [
    {
     "data": {
      "text/plain": [
       "5.000000000059834"
      ]
     },
     "execution_count": 468,
     "metadata": {},
     "output_type": "execute_result"
    }
   ],
   "source": [
    "c=inv2(a)@a\n",
    "abs(c).sum()"
   ]
  },
  {
   "cell_type": "code",
   "execution_count": 469,
   "metadata": {},
   "outputs": [
    {
     "data": {
      "text/plain": [
       "array([[1., 0., 0., 0., 0.],\n",
       "       [0., 1., 0., 0., 0.],\n",
       "       [0., 0., 1., 0., 0.],\n",
       "       [0., 0., 0., 1., 0.],\n",
       "       [0., 0., 0., 0., 1.]])"
      ]
     },
     "execution_count": 469,
     "metadata": {},
     "output_type": "execute_result"
    }
   ],
   "source": [
    "np.where(abs(c)<1e-11, 0, c)"
   ]
  },
  {
   "cell_type": "code",
   "execution_count": 470,
   "metadata": {},
   "outputs": [],
   "source": [
    "from numpy.linalg import inv"
   ]
  },
  {
   "cell_type": "code",
   "execution_count": 474,
   "metadata": {},
   "outputs": [
    {
     "data": {
      "text/plain": [
       "5.000000000125139"
      ]
     },
     "execution_count": 474,
     "metadata": {},
     "output_type": "execute_result"
    }
   ],
   "source": [
    "abs(inv(a)@a).sum()   #it seems that inv2 is more accurat better than the bulit-in inv for \"small dimensions\""
   ]
  },
  {
   "cell_type": "code",
   "execution_count": 475,
   "metadata": {},
   "outputs": [
    {
     "data": {
      "text/plain": [
       "array([[1.        , 0.5       , 0.33333333, 0.25      , 0.2       ],\n",
       "       [0.5       , 0.33333333, 0.25      , 0.2       , 0.16666667],\n",
       "       [0.33333333, 0.25      , 0.2       , 0.16666667, 0.14285714],\n",
       "       [0.25      , 0.2       , 0.16666667, 0.14285714, 0.125     ],\n",
       "       [0.2       , 0.16666667, 0.14285714, 0.125     , 0.11111111]])"
      ]
     },
     "execution_count": 475,
     "metadata": {},
     "output_type": "execute_result"
    }
   ],
   "source": [
    "inv(inv(a))"
   ]
  },
  {
   "cell_type": "code",
   "execution_count": 476,
   "metadata": {},
   "outputs": [
    {
     "data": {
      "text/plain": [
       "array([[1.        , 0.5       , 0.33333333, 0.25      , 0.2       ],\n",
       "       [0.5       , 0.33333333, 0.25      , 0.2       , 0.16666667],\n",
       "       [0.33333333, 0.25      , 0.2       , 0.16666667, 0.14285714],\n",
       "       [0.25      , 0.2       , 0.16666667, 0.14285714, 0.125     ],\n",
       "       [0.2       , 0.16666667, 0.14285714, 0.125     , 0.11111111]])"
      ]
     },
     "execution_count": 476,
     "metadata": {},
     "output_type": "execute_result"
    }
   ],
   "source": [
    "inv2(inv2(a))"
   ]
  },
  {
   "cell_type": "markdown",
   "metadata": {},
   "source": [
    "### larger dim:\n",
    "$inv(inv(a))$ is close to a for our inv\n",
    "\n",
    "but $a\\cdot inv(a)$ is close to identity for bulit-in inv"
   ]
  },
  {
   "cell_type": "code",
   "execution_count": 578,
   "metadata": {},
   "outputs": [
    {
     "data": {
      "text/plain": [
       "2755302.679095476"
      ]
     },
     "execution_count": 578,
     "metadata": {},
     "output_type": "execute_result"
    }
   ],
   "source": [
    "a=np.fromfunction(lambda x,y : 1/(x+y+1), (20,20), dtype=np.float64) \n",
    "abs(a@inv2(a)).sum()"
   ]
  },
  {
   "cell_type": "code",
   "execution_count": 579,
   "metadata": {},
   "outputs": [
    {
     "data": {
      "text/plain": [
       "282.13974773716734"
      ]
     },
     "execution_count": 579,
     "metadata": {},
     "output_type": "execute_result"
    }
   ],
   "source": [
    "abs(a@inv(a)).sum()"
   ]
  },
  {
   "cell_type": "code",
   "execution_count": 580,
   "metadata": {},
   "outputs": [
    {
     "data": {
      "text/plain": [
       "29.89729445667247"
      ]
     },
     "execution_count": 580,
     "metadata": {},
     "output_type": "execute_result"
    }
   ],
   "source": [
    "abs(inv2(inv2(a))-a).sum()"
   ]
  },
  {
   "cell_type": "code",
   "execution_count": 581,
   "metadata": {},
   "outputs": [
    {
     "data": {
      "text/plain": [
       "73.65407801750061"
      ]
     },
     "execution_count": 581,
     "metadata": {},
     "output_type": "execute_result"
    }
   ],
   "source": [
    "abs(inv(inv(a))-a).sum()"
   ]
  },
  {
   "cell_type": "markdown",
   "metadata": {},
   "source": [
    "# Statistics Functions"
   ]
  },
  {
   "cell_type": "code",
   "execution_count": 600,
   "metadata": {},
   "outputs": [
    {
     "data": {
      "text/plain": [
       "array([[0., 5., 7., 6., 0., 6.],\n",
       "       [7., 5., 9., 3., 0., 4.],\n",
       "       [6., 6., 0., 4., 9., 3.],\n",
       "       [1., 6., 6., 4., 4., 4.],\n",
       "       [5., 1., 2., 6., 9., 8.]])"
      ]
     },
     "execution_count": 600,
     "metadata": {},
     "output_type": "execute_result"
    }
   ],
   "source": [
    "a=np.random.randint(0,10,(5,6)).astype(float)\n",
    "a"
   ]
  },
  {
   "cell_type": "code",
   "execution_count": 166,
   "metadata": {},
   "outputs": [
    {
     "data": {
      "text/plain": [
       "143.0"
      ]
     },
     "execution_count": 166,
     "metadata": {},
     "output_type": "execute_result"
    }
   ],
   "source": [
    "a.sum()"
   ]
  },
  {
   "cell_type": "code",
   "execution_count": 147,
   "metadata": {},
   "outputs": [
    {
     "data": {
      "text/plain": [
       "4.466666666666667"
      ]
     },
     "execution_count": 147,
     "metadata": {},
     "output_type": "execute_result"
    }
   ],
   "source": [
    "a.mean()"
   ]
  },
  {
   "cell_type": "code",
   "execution_count": 148,
   "metadata": {},
   "outputs": [
    {
     "data": {
      "text/plain": [
       "array([20., 24., 27., 14., 23., 26.])"
      ]
     },
     "execution_count": 148,
     "metadata": {},
     "output_type": "execute_result"
    }
   ],
   "source": [
    "a.sum(axis=0)"
   ]
  },
  {
   "cell_type": "code",
   "execution_count": 149,
   "metadata": {},
   "outputs": [
    {
     "data": {
      "text/plain": [
       "array([3.33333333, 4.16666667, 4.66666667, 5.33333333, 4.83333333])"
      ]
     },
     "execution_count": 149,
     "metadata": {},
     "output_type": "execute_result"
    }
   ],
   "source": [
    "a.mean(axis=1)"
   ]
  },
  {
   "cell_type": "code",
   "execution_count": 150,
   "metadata": {},
   "outputs": [
    {
     "data": {
      "text/plain": [
       "array([  3.,   6.,  15.,  16.,  18.,  20.,  28.,  28.,  34.,  36.,  37.,\n",
       "        45.,  51.,  58.,  60.,  62.,  67.,  73.,  76.,  85.,  86.,  90.,\n",
       "        99., 105., 105., 110., 119., 124., 130., 134.])"
      ]
     },
     "execution_count": 150,
     "metadata": {},
     "output_type": "execute_result"
    }
   ],
   "source": [
    "a.cumsum()"
   ]
  },
  {
   "cell_type": "code",
   "execution_count": 151,
   "metadata": {},
   "outputs": [
    {
     "data": {
      "text/plain": [
       "array([[ 3.,  3.,  9.,  1.,  2.,  2.],\n",
       "       [11.,  3., 15.,  3.,  3., 10.],\n",
       "       [17., 10., 17.,  5.,  8., 16.],\n",
       "       [20., 19., 18.,  9., 17., 22.],\n",
       "       [20., 24., 27., 14., 23., 26.]])"
      ]
     },
     "execution_count": 151,
     "metadata": {},
     "output_type": "execute_result"
    }
   ],
   "source": [
    "a.cumsum(axis=0)"
   ]
  },
  {
   "cell_type": "code",
   "execution_count": 152,
   "metadata": {},
   "outputs": [
    {
     "data": {
      "text/plain": [
       "array([[ 3.,  6., 15., 16., 18., 20.],\n",
       "       [ 8.,  8., 14., 16., 17., 25.],\n",
       "       [ 6., 13., 15., 17., 22., 28.],\n",
       "       [ 3., 12., 13., 17., 26., 32.],\n",
       "       [ 0.,  5., 14., 19., 25., 29.]])"
      ]
     },
     "execution_count": 152,
     "metadata": {},
     "output_type": "execute_result"
    }
   ],
   "source": [
    "a.cumsum(axis=1)"
   ]
  },
  {
   "cell_type": "code",
   "execution_count": 156,
   "metadata": {},
   "outputs": [
    {
     "data": {
      "text/plain": [
       "2"
      ]
     },
     "execution_count": 156,
     "metadata": {},
     "output_type": "execute_result"
    }
   ],
   "source": [
    "a.argmax()"
   ]
  },
  {
   "cell_type": "code",
   "execution_count": 158,
   "metadata": {},
   "outputs": [
    {
     "data": {
      "text/plain": [
       "array([2.62466929, 3.28718049, 1.97202659, 2.98142397, 2.67186992])"
      ]
     },
     "execution_count": 158,
     "metadata": {},
     "output_type": "execute_result"
    }
   ],
   "source": [
    "a.std(axis=1)"
   ]
  },
  {
   "cell_type": "markdown",
   "metadata": {},
   "source": [
    "# Boolean Array & np.where"
   ]
  },
  {
   "cell_type": "code",
   "execution_count": 167,
   "metadata": {},
   "outputs": [
    {
     "data": {
      "text/plain": [
       "array([[False, False,  True, False, False,  True],\n",
       "       [False, False,  True,  True, False,  True],\n",
       "       [ True, False,  True, False,  True,  True],\n",
       "       [False,  True,  True, False,  True,  True],\n",
       "       [ True, False,  True,  True,  True, False]])"
      ]
     },
     "execution_count": 167,
     "metadata": {},
     "output_type": "execute_result"
    }
   ],
   "source": [
    "a>4"
   ]
  },
  {
   "cell_type": "code",
   "execution_count": 169,
   "metadata": {},
   "outputs": [
    {
     "data": {
      "text/plain": [
       "17"
      ]
     },
     "execution_count": 169,
     "metadata": {},
     "output_type": "execute_result"
    }
   ],
   "source": [
    "(a>4).sum()"
   ]
  },
  {
   "cell_type": "code",
   "execution_count": 603,
   "metadata": {},
   "outputs": [
    {
     "data": {
      "text/plain": [
       "array([[1, 0, 0, 0, 1, 0],\n",
       "       [0, 0, 0, 1, 1, 1],\n",
       "       [0, 0, 1, 1, 0, 1],\n",
       "       [1, 0, 0, 1, 1, 1],\n",
       "       [0, 1, 1, 0, 0, 0]])"
      ]
     },
     "execution_count": 603,
     "metadata": {},
     "output_type": "execute_result"
    }
   ],
   "source": [
    "np.where( a>4, 0, 1)"
   ]
  },
  {
   "cell_type": "code",
   "execution_count": 604,
   "metadata": {},
   "outputs": [
    {
     "data": {
      "text/plain": [
       "array([[0., 0., 0., 0., 0., 0.],\n",
       "       [0., 0., 0., 3., 0., 4.],\n",
       "       [0., 0., 0., 4., 0., 3.],\n",
       "       [1., 0., 0., 4., 4., 4.],\n",
       "       [0., 1., 2., 0., 0., 0.]])"
      ]
     },
     "execution_count": 604,
     "metadata": {},
     "output_type": "execute_result"
    }
   ],
   "source": [
    "np.where( a>4, 0, a)"
   ]
  },
  {
   "cell_type": "code",
   "execution_count": 170,
   "metadata": {},
   "outputs": [],
   "source": [
    "b=np.random.randint(0,10,(5,6)).astype(float)"
   ]
  },
  {
   "cell_type": "code",
   "execution_count": 172,
   "metadata": {},
   "outputs": [
    {
     "data": {
      "text/plain": [
       "13"
      ]
     },
     "execution_count": 172,
     "metadata": {},
     "output_type": "execute_result"
    }
   ],
   "source": [
    "(a>b).sum()"
   ]
  },
  {
   "cell_type": "code",
   "execution_count": 173,
   "metadata": {},
   "outputs": [
    {
     "data": {
      "text/plain": [
       "array([5., 6., 7., 9., 3., 8., 6., 9., 7., 3., 9., 7., 9.])"
      ]
     },
     "execution_count": 173,
     "metadata": {},
     "output_type": "execute_result"
    }
   ],
   "source": [
    "a[a>b]"
   ]
  },
  {
   "cell_type": "code",
   "execution_count": 174,
   "metadata": {},
   "outputs": [
    {
     "data": {
      "text/plain": [
       "array([[37, 16,  5, ..., 35,  7,  7],\n",
       "       [23, 24, 25, ..., 16, 28,  7],\n",
       "       [ 7, 36, 17, ..., 19, 35, 26],\n",
       "       ...,\n",
       "       [ 9, 23, 17, ..., 22,  2, 36],\n",
       "       [38, 34, 33, ..., 17, 14, 34],\n",
       "       [13,  2, 31, ..., 24, 29, 12]])"
      ]
     },
     "execution_count": 174,
     "metadata": {},
     "output_type": "execute_result"
    }
   ],
   "source": [
    "c=np.random.randint(0,40,(50,50))\n",
    "c"
   ]
  },
  {
   "cell_type": "code",
   "execution_count": 178,
   "metadata": {},
   "outputs": [
    {
     "data": {
      "text/plain": [
       "True"
      ]
     },
     "execution_count": 178,
     "metadata": {},
     "output_type": "execute_result"
    }
   ],
   "source": [
    "(c%7==0).any()"
   ]
  },
  {
   "cell_type": "code",
   "execution_count": 179,
   "metadata": {},
   "outputs": [
    {
     "data": {
      "text/plain": [
       "False"
      ]
     },
     "execution_count": 179,
     "metadata": {},
     "output_type": "execute_result"
    }
   ],
   "source": [
    "(c%2==1).all()"
   ]
  },
  {
   "cell_type": "markdown",
   "metadata": {},
   "source": [
    "# Sort is inplaced"
   ]
  },
  {
   "cell_type": "code",
   "execution_count": 332,
   "metadata": {},
   "outputs": [
    {
     "data": {
      "text/plain": [
       "array([[3., 5., 2., 7., 3., 4.],\n",
       "       [2., 0., 3., 4., 3., 9.],\n",
       "       [3., 1., 4., 1., 8., 0.],\n",
       "       [9., 3., 1., 3., 5., 9.],\n",
       "       [6., 1., 0., 6., 1., 5.]])"
      ]
     },
     "execution_count": 332,
     "metadata": {},
     "output_type": "execute_result"
    }
   ],
   "source": [
    "a"
   ]
  },
  {
   "cell_type": "code",
   "execution_count": 333,
   "metadata": {},
   "outputs": [],
   "source": [
    "a.sort()  # a.sort()=a.sort(0)"
   ]
  },
  {
   "cell_type": "code",
   "execution_count": 334,
   "metadata": {},
   "outputs": [
    {
     "data": {
      "text/plain": [
       "array([[2., 3., 3., 4., 5., 7.],\n",
       "       [0., 2., 3., 3., 4., 9.],\n",
       "       [0., 1., 1., 3., 4., 8.],\n",
       "       [1., 3., 3., 5., 9., 9.],\n",
       "       [0., 1., 1., 5., 6., 6.]])"
      ]
     },
     "execution_count": 334,
     "metadata": {},
     "output_type": "execute_result"
    }
   ],
   "source": [
    "a"
   ]
  },
  {
   "cell_type": "code",
   "execution_count": 335,
   "metadata": {},
   "outputs": [],
   "source": [
    "a=np.random.randint(0,10,(5,6))"
   ]
  },
  {
   "cell_type": "code",
   "execution_count": 338,
   "metadata": {},
   "outputs": [
    {
     "data": {
      "text/plain": [
       "array([[0, 0, 1, 2, 5, 6],\n",
       "       [2, 3, 4, 5, 7, 7],\n",
       "       [3, 5, 6, 7, 7, 7],\n",
       "       [7, 7, 7, 8, 8, 9],\n",
       "       [8, 9, 9, 9, 9, 9]])"
      ]
     },
     "execution_count": 338,
     "metadata": {},
     "output_type": "execute_result"
    }
   ],
   "source": [
    "a.sort(0)\n",
    "a"
   ]
  },
  {
   "cell_type": "markdown",
   "metadata": {},
   "source": [
    "# 實例：Markov's Chain\n",
    "A 有10顆白球與200顆黑球 \n",
    "\n",
    "B 有100顆白球與10顆黑球\n",
    "\n",
    "每次從A取一棵球放入B, 再自B取一棵放入A \n",
    "\n",
    "觀測其極限行為"
   ]
  },
  {
   "cell_type": "code",
   "execution_count": 359,
   "metadata": {},
   "outputs": [],
   "source": [
    "A=np.array([0]*10+[1]*200)\n",
    "B=np.array([0]*100+[1]*10)"
   ]
  },
  {
   "cell_type": "code",
   "execution_count": 360,
   "metadata": {},
   "outputs": [
    {
     "data": {
      "image/png": "[encoded data removed]",
      "text/plain": [
       "<Figure size 432x288 with 1 Axes>"
      ]
     },
     "metadata": {
      "needs_background": "light"
     },
     "output_type": "display_data"
    }
   ],
   "source": [
    "PA=[]\n",
    "PB=[]\n",
    "for i in range(1000):\n",
    "    a=np.random.randint(0,len(A))\n",
    "    taken = A[a]\n",
    "    b=np.random.randint(0,len(B)+1)\n",
    "    if b<len(B): \n",
    "        A[a]=B[b]\n",
    "        B[b]=taken\n",
    "    #if i%10==0: print(A.mean(),B.mean())\n",
    "    PA.append(A.mean())\n",
    "    PB.append(B.mean())\n",
    "fig, ax = plt.subplots()\n",
    "ax.plot(range(len(PA)),PA, label='A')\n",
    "ax.plot(range(len(PA)),PB, label='B')\n",
    "ax.legend()\n",
    "fig.suptitle('ratio is tending to 21/32')\n",
    "plt.show()"
   ]
  },
  {
   "cell_type": "markdown",
   "metadata": {},
   "source": [
    "# 實例 : 模擬籃球賽\n",
    "假設A隊每次進攻得0,1,2,3 分的機率比為 35:5:35:25\n",
    "\n",
    "假設B隊每次進攻得0,1,2,3 分的機率比為 30:5:30:35\n",
    "\n",
    "進行 60回合"
   ]
  },
  {
   "cell_type": "code",
   "execution_count": 641,
   "metadata": {},
   "outputs": [
    {
     "data": {
      "image/png": "[encoded data removed]",
      "text/plain": [
       "<Figure size 720x360 with 2 Axes>"
      ]
     },
     "metadata": {
      "needs_background": "light"
     },
     "output_type": "display_data"
    }
   ],
   "source": [
    "def attack(a,b,c,d, n):\n",
    "    P=[0]*a+[1]*b+[2]*c+[3]*d\n",
    "    res=[0]\n",
    "    for i in range(n):\n",
    "        res.append(P[np.random.randint(0,len(P))])\n",
    "    return np.array(res)\n",
    "\n",
    "A=attack(35,5,35,25,60).cumsum()\n",
    "B=attack(30,5,30,35,60).cumsum()\n",
    "fig, ax = plt.subplots(1,2,figsize=(10,5))\n",
    "ax[0].plot(range(len(A)),A, label='A')\n",
    "ax[0].plot(range(len(A)),B, label='B')\n",
    "ax[1].plot(range(len(A)), A-B, label='A-B')\n",
    "ax[0].legend()\n",
    "ax[1].legend()\n",
    "plt.show()"
   ]
  },
  {
   "cell_type": "code",
   "execution_count": 642,
   "metadata": {},
   "outputs": [
    {
     "data": {
      "text/plain": [
       "10"
      ]
     },
     "execution_count": 642,
     "metadata": {},
     "output_type": "execute_result"
    }
   ],
   "source": [
    "np.abs(A-B).max()  #最大差距"
   ]
  },
  {
   "cell_type": "code",
   "execution_count": 643,
   "metadata": {},
   "outputs": [
    {
     "data": {
      "text/plain": [
       "5"
      ]
     },
     "execution_count": 643,
     "metadata": {},
     "output_type": "execute_result"
    }
   ],
   "source": [
    "C=(A-B).astype(float)\n",
    "((C[1:]-0.1)*(C[:-1]-0.1)<0).sum() -1  #逆轉次數"
   ]
  },
  {
   "cell_type": "code",
   "execution_count": 657,
   "metadata": {},
   "outputs": [
    {
     "data": {
      "image/png": "[encoded data removed]",
      "text/plain": [
       "<Figure size 1080x504 with 20 Axes>"
      ]
     },
     "metadata": {
      "needs_background": "light"
     },
     "output_type": "display_data"
    }
   ],
   "source": [
    "# run 20 games\n",
    "fig, ax = plt.subplots(4,5,figsize=(15,7))\n",
    "for i in range(4):\n",
    "    for j in range(5):\n",
    "        A=attack(35,5,35,25,60).cumsum()\n",
    "        B=attack(30,5,30,35,60).cumsum()\n",
    "        ax[i,j].plot(range(len(A)),A, label='A')\n",
    "        ax[i,j].plot(range(len(A)),B, label='B')\n",
    "        "
   ]
  },
  {
   "cell_type": "code",
   "execution_count": null,
   "metadata": {},
   "outputs": [],
   "source": []
  }
 ],
 "metadata": {
  "kernelspec": {
   "display_name": "Python 3",
   "language": "python",
   "name": "python3"
  },
  "language_info": {
   "codemirror_mode": {
    "name": "ipython",
    "version": 3
   },
   "file_extension": ".py",
   "mimetype": "text/x-python",
   "name": "python",
   "nbconvert_exporter": "python",
   "pygments_lexer": "ipython3",
   "version": "3.6.7"
  }
 },
 "nbformat": 4,
 "nbformat_minor": 2
}
